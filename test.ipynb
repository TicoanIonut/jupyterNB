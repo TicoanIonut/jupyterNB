{
 "cells": [
  {
   "cell_type": "code",
   "execution_count": 2,
   "id": "5a8d7796",
   "metadata": {},
   "outputs": [],
   "source": [
    "import pandas as pd"
   ]
  },
  {
   "cell_type": "code",
   "execution_count": 8,
   "id": "2a5a88fd",
   "metadata": {},
   "outputs": [
    {
     "data": {
      "text/plain": [
       "199              DERTOUR\n",
       "823     AC UNITED TRAVEL\n",
       "1242           SIMBOTOUR\n",
       "1538         SAVI TRAVEL\n",
       "1693        CLUB HAI HUI\n",
       "1891          HORUS TOUR\n",
       "2184    CHALLENGE TRAVEL\n",
       "2826       ALTEX ROMANIA\n",
       "2852       ALTEX ROMANIA\n",
       "2883       ALTEX ROMANIA\n",
       "Name: Denumirea agenției, dtype: object"
      ]
     },
     "execution_count": 8,
     "metadata": {},
     "output_type": "execute_result"
    }
   ],
   "source": [
    "df = pd.read_excel('LISTA-AGENTIILOR-DE-TURISM-LICENTIATE-actualizare-13.10.2022.xlsx')\n",
    "df.drop(df.columns[0], axis=1, inplace=True)\n",
    "df.columns = df.iloc[0]\n",
    "df.drop(df.index[0], inplace=True)\n",
    "# df.set_index('Numar LICENȚĂ', inplace=True)\n",
    "df.reset_index(drop=True, inplace=True)\n",
    "df\n",
    "df.loc[(df['Localitate'] == 'SATU MARE') & (df['Tip Agenție'] == 'ORGANIZATOARE')]['Denumirea agenției']"
   ]
  },
  {
   "cell_type": "code",
   "execution_count": null,
   "id": "00029092",
   "metadata": {},
   "outputs": [],
   "source": []
  },
  {
   "cell_type": "code",
   "execution_count": null,
   "id": "304270c9",
   "metadata": {},
   "outputs": [],
   "source": []
  }
 ],
 "metadata": {
  "kernelspec": {
   "display_name": "Python 3 (ipykernel)",
   "language": "python",
   "name": "python3"
  },
  "language_info": {
   "codemirror_mode": {
    "name": "ipython",
    "version": 3
   },
   "file_extension": ".py",
   "mimetype": "text/x-python",
   "name": "python",
   "nbconvert_exporter": "python",
   "pygments_lexer": "ipython3",
   "version": "3.10.2"
  }
 },
 "nbformat": 4,
 "nbformat_minor": 5
}
